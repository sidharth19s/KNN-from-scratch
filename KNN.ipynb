{
  "nbformat": 4,
  "nbformat_minor": 0,
  "metadata": {
    "colab": {
      "name": "KNN.ipynb",
      "provenance": []
    },
    "kernelspec": {
      "name": "python3",
      "display_name": "Python 3"
    },
    "language_info": {
      "name": "python"
    }
  },
  "cells": [
    {
      "cell_type": "code",
      "metadata": {
        "id": "RFlU_P5-_O2Z"
      },
      "source": [
        "import numpy as np\n",
        "from collections import Counter\n",
        "\n",
        "def euclidean_distance(x1, x2):\n",
        "  return np.sqrt(np.sum((x1 - x2)**2))\n",
        "\n",
        "\n",
        "class KNN:\n",
        "\n",
        "  def __init__(self, k=3):\n",
        "    self.k = k\n",
        "\n",
        "  def fit(self, X, y):\n",
        "    self.X_train = X\n",
        "    self.y_train = y\n",
        "\n",
        "  def predict(self, X):\n",
        "    labels= [self._predict(x) for x in X]\n",
        "    return np.array(labels)\n",
        "\n",
        "  def _predict(self, x):\n",
        "    distances = [euclidean_distance(x, i) for i in self.X_train]\n",
        "    sorted_indices = np.argsort(distances)[:self.k]\n",
        "    sorted_labels = self.y_train[sorted_indices]\n",
        "    label= Counter(sorted_labels).most_common(1)[0][0]\n",
        "    return label\n",
        "        "
      ],
      "execution_count": null,
      "outputs": []
    }
  ]
}